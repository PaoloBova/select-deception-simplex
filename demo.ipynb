{
 "cells": [
  {
   "cell_type": "code",
   "execution_count": null,
   "metadata": {},
   "outputs": [],
   "source": [
    "# Project imports\n",
    "import core"
   ]
  },
  {
   "cell_type": "code",
   "execution_count": null,
   "metadata": {},
   "outputs": [],
   "source": [
    "param_list = [\n",
    "    {\"b\": 1.5, \"c\": 0.5, \"d\": 0.1, \"s\": 0.2,\n",
    "     \"Z\": 100, \"beta\": 1, \"mu\": 1e-3, \"strategies\": ['CC', 'HD', 'TD'],\n",
    "     \"hardcode_stability\": True,\n",
    "     \"payoffs_fn\": core.tactical_deception_payoffs_s_curve},\n",
    "]\n",
    "\n",
    "simulation_fn = None # Currently, no simulation_fn exists\n",
    "plotting_fn = core.plot_simplex # ~30s per plot\n",
    "# plotting_fn = core.plot_simplex_numerical # ~150s per plot\n",
    "\n",
    "\n",
    "simulation_fn = None # Currently, no simulation_fn exists\n",
    "# plotting_fn = core.plot_simplex # ~30s per plot\n",
    "plotting_fn = core.plot_simplex_numerical # ~150s per plot\n",
    "# plotting_fn = core.plot_deception_frequency\n",
    "# plotting_fn = core.plot_strategy_frequencies\n",
    "# plotting_fn = core.plot_conflict_comparison"
   ]
  },
  {
   "cell_type": "code",
   "execution_count": null,
   "metadata": {},
   "outputs": [],
   "source": [
    "results = core.run_all_simulations(param_list,\n",
    "                                   simulation_fn=simulation_fn,\n",
    "                                   plotting_fn=plotting_fn,\n",
    "                                   plot_dir=\"plots\",\n",
    "                                   simulation_dir=\"dataframes\",)"
   ]
  },
  {
   "cell_type": "code",
   "execution_count": null,
   "metadata": {},
   "outputs": [],
   "source": [
    "figs, simulation_results = results"
   ]
  },
  {
   "cell_type": "code",
   "execution_count": null,
   "metadata": {},
   "outputs": [],
   "source": [
    "results2 = core.run_all_simulations(param_list,\n",
    "                                   simulation_fn=simulation_fn,\n",
    "                                   plotting_fn=core.plot_conflict_comparison,\n",
    "                                   plot_dir=\"plots\",\n",
    "                                   simulation_dir=\"dataframes\",)\n",
    "\n",
    "figs2, simulation_results2 = results2"
   ]
  }
 ],
 "metadata": {
  "kernelspec": {
   "display_name": "base",
   "language": "python",
   "name": "python3"
  },
  "language_info": {
   "codemirror_mode": {
    "name": "ipython",
    "version": 3
   },
   "file_extension": ".py",
   "mimetype": "text/x-python",
   "name": "python",
   "nbconvert_exporter": "python",
   "pygments_lexer": "ipython3",
   "version": "3.10.8"
  },
  "orig_nbformat": 4
 },
 "nbformat": 4,
 "nbformat_minor": 2
}
