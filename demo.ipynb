{
 "cells": [
  {
   "cell_type": "code",
   "execution_count": null,
   "metadata": {},
   "outputs": [],
   "source": [
    "# Project imports\n",
    "import core"
   ]
  },
  {
   "cell_type": "code",
   "execution_count": null,
   "metadata": {},
   "outputs": [],
   "source": [
    "param_list = [\n",
    "    {\"b\": 1.5, \"c\": 0.5, \"d\": 0.1, \"s\": 0.2,\n",
    "     \"Z\": 100, \"beta\": 1, \"mu\": 1e-3, \"strategies\": ['CC', 'HD', 'TD']},\n",
    "]\n",
    "\n",
    "simulation_fn = None # Currently, no simulation_fn exists\n",
    "plotting_fn = core.plot_simplex # ~30s per plot\n",
    "# plotting_fn = core.plot_simplex_numerical # ~150s per plot"
   ]
  },
  {
   "cell_type": "code",
   "execution_count": null,
   "metadata": {},
   "outputs": [],
   "source": [
    "results = core.run_all_simulations(param_list,\n",
    "                                   simulation_fn=simulation_fn,\n",
    "                                   plotting_fn=plotting_fn,\n",
    "                                   plot_dir=\"plots\",\n",
    "                                   simulation_dir=\"dataframes\",)"
   ]
  },
  {
   "cell_type": "code",
   "execution_count": null,
   "metadata": {},
   "outputs": [],
   "source": [
    "figs, simulation_results = results"
   ]
  }
 ],
 "metadata": {
  "language_info": {
   "name": "python"
  },
  "orig_nbformat": 4
 },
 "nbformat": 4,
 "nbformat_minor": 2
}
